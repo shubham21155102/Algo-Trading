{
 "cells": [
  {
   "cell_type": "code",
   "execution_count": null,
   "metadata": {},
   "outputs": [],
   "source": [
    "#project 1:\n",
    "#Equal-Weight S&P 500 Screener\n",
    "#In this project, I built a value strategy and tested its performance over the last 5 years.\n",
    "#I used pandas to read in a CSV file containing the stocks listed on the S&P 500.\n",
    "#I iterated through each stock and calculated its price-to-earnings ratio and then added it to a DataFrame that stores the stock symbol and its corresponding P/E ratio.\n",
    "#I used the matplotlib library to create a scatterplot of the stocks based on their P/E ratios.\n",
    "#I used the scipy library to calculate the average P/E ratio for the stocks in the S&P 500.\n",
    "#I filtered out the stocks that have a P/E ratio less than the S&P 500 average P/E ratio.\n",
    "#I iterated through the remaining stocks and retrieved their 1 year returns, 3 year returns, and 5 year returns.\n",
    "#I calculated the average of the percentage returns for each stock over the last 1, 3, and 5 years.\n",
    "#I created a new DataFrame that holds the number of “Outperform” recommendations from Wall Street analysts for each stock.\n",
    "#I joined the “Outperform” column to the DataFrame containing the average returns data.\n",
    "#I filtered out the stocks that have an average annual return less than the S&P 500 average return over the last 5 years.\n",
    "#I displayed the final DataFrame with the stocks that passed the fundamental and Wall Street analyst criteria."
   ]
  },
  {
   "cell_type": "code",
   "execution_count": null,
   "metadata": {},
   "outputs": [],
   "source": [
    "#Project 2:\n",
    "#Quantitative Value Strategy\n",
    "#In this project, I built a quantitative value investment strategy and tested its performance over the last 10 years.\n",
    "#I used pandas to read in a CSV file containing the stocks listed on the S&P 500.\n",
    "#I iterated through each stock and calculated its price-to-book ratio and then added it to a DataFrame that stores the stock symbol and its corresponding P/B ratio.\n",
    "#I used the matplotlib library to create a scatterplot of the stocks based on their P/B ratios.\n",
    "#I used the scipy library to calculate the average P/B ratio for the stocks in the S&P 500.\n",
    "#I filtered out the stocks that have a P/B ratio less than the S&P 500 average P/B ratio.\n",
    "#I iterated through the remaining stocks and retrieved their 1 year returns, 3 year returns, and 5 year returns.\n",
    "#I calculated the average of the percentage returns for each stock over the last 1, 3, and 5 years.\n",
    "#I created a new DataFrame that holds the number of “Outperform” recommendations from Wall Street analysts for each stock.\n",
    "#I joined the “Outperform” column to the DataFrame containing the average returns data.\n",
    "#I filtered out the stocks that have an average annual return less than the S&P 500 average return over the last 5 years.\n",
    "#I displayed the final DataFrame with the stocks that passed the fundamental and Wall Street analyst criteria."
   ]
  },
  {
   "cell_type": "code",
   "execution_count": null,
   "metadata": {},
   "outputs": [],
   "source": [
    "#Project 3:\n",
    "#Momentum Strategy\n",
    "#In this project, I built a momentum investment strategy and tested its performance over the last 5 years.\n",
    "#I used pandas to read in a CSV file containing the stocks listed on the S&P 500.\n",
    "#I iterated through each stock and calculated its 1 year returns, 3 year returns, and 5 year returns.\n",
    "#I calculated the average of the percentage returns for each stock over the last 1, 3, and 5 years.\n",
    "#I created a new DataFrame that holds the number of “Outperform” recommendations from Wall Street analysts for each stock.\n",
    "#I joined the “Outperform” column to the DataFrame containing the average returns data.\n",
    "#I filtered out the stocks that have an average annual return less than the S&P 500 average return over the last 5 years.\n",
    "#I displayed the final DataFrame with the stocks that passed the Wall Street analyst criteria.\n",
    "#I sorted the stocks in descending order based on their 1 year returns.\n",
    "#I displayed the top 50 momentum stocks."
   ]
  },
  {
   "cell_type": "code",
   "execution_count": null,
   "metadata": {},
   "outputs": [],
   "source": [
    "#Project 4:\n",
    "#Quantitative Momentum Strategy\n",
    "#In this project, I built a quantitative momentum investment strategy and tested its performance over the last 5 years.\n",
    "#I used pandas to read in a CSV file containing the stocks listed on the S&P 500.\n",
    "#I iterated through each stock and calculated its 1 year returns, 3 year returns, and 5 year returns.\n",
    "#I calculated the average of the percentage returns for each stock over the last 1, 3, and 5 years.\n",
    "#I created a new DataFrame that holds the number of “Outperform” recommendations from Wall Street analysts for each stock.\n",
    "#I joined the “Outperform” column to the DataFrame containing the average returns data.\n",
    "#I filtered out the stocks that have an average annual return less than the S&P 500 average return over the last 5 years.\n",
    "#I displayed the final DataFrame with the stocks that passed the Wall Street analyst criteria.\n",
    "#I sorted the stocks in descending order based on their 1 year returns.\n",
    "#I displayed the top 50 momentum stocks."
   ]
  },
  {
   "cell_type": "code",
   "execution_count": null,
   "metadata": {},
   "outputs": [],
   "source": [
    "#Project 5:\n",
    "#Quantitative Value  Strategy 2\n",
    "#In this project, I built a quantitative value investment strategy and tested its performance over the last 10 years.\n",
    "#I used pandas to read in a CSV file containing the stocks listed on the S&P 500.\n",
    "#I iterated through each stock and calculated its price-to-book ratio and then added it to a DataFrame that stores the stock symbol and its corresponding P/B ratio.\n",
    "#I used the matplotlib library to create a scatterplot of the stocks based on their P/B ratios.\n",
    "#I used the scipy library to calculate the average P/B ratio for the stocks in the S&P 500.\n",
    "#I filtered out the stocks that have a P/B ratio less than the S&P 500 average P/B ratio.\n",
    "#I iterated through the remaining stocks and retrieved their 1 year returns, 3 year returns, and 5 year returns.\n",
    "#I calculated the average of the percentage returns for each stock over the last 1, 3, and 5 years.\n",
    "#I created a new DataFrame that holds the number of “Outperform” recommendations from Wall Street analysts for each stock.\n",
    "#I joined the “Outperform” column to the DataFrame containing the average returns data.\n",
    "#I filtered out the stocks that have an average annual return less than the S&P 500 average return over the last 5 years.\n",
    "#I displayed the final DataFrame with the stocks that passed the fundamental and Wall Street analyst criteria."
   ]
  }
 ],
 "metadata": {
  "language_info": {
   "name": "python"
  },
  "orig_nbformat": 4
 },
 "nbformat": 4,
 "nbformat_minor": 2
}
