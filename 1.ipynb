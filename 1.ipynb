{
 "cells": [
  {
   "cell_type": "markdown",
   "metadata": {},
   "source": [
    "- **1). Algorithmic Trading Basics**\n",
    "- **2). API BASICS and Course Configruation**\n",
    "- **3). Project 1: Equal-Weight S&P 500 Screener**\n",
    "- **4). Project 2: Quantitative Value Strategy**\n",
    "- **5). Project 3: Momentum Investing**\n",
    "- **6). Project 4: Quantitative Momentum Strategy**\n",
    "- **7). Project 5: Quantitative Value Strategy 2**\n"
   ]
  },
  {
   "cell_type": "markdown",
   "metadata": {},
   "source": [
    "- Definition <br>\n",
    "**Algorithmic Trading means using computers to make investment decoisions**\n",
    "- Algorithmic Trading is a subset of **Quantitative Finance**\n",
    "- Quantitative Finance is a subset of **Finance**\n",
    "- Finance is a subset of **Economics**\n",
    "- Economics is a subset of **Social Science**\n",
    "and includes all fields related to the study, analysis, interpretation, prediction or forecasting of economic\n",
    "information. It is a very broad field and includes many sub-fields like:\n",
    "    - Microeconomics\n",
    "    - Macroeconomics\n",
    "    - Econometrics\n",
    "    - Financial Economics\n",
    "    - Behavioral Economics\n",
    "    - International Economics\n",
    "    - Public Economics\n",
    "    - Health Economics\n",
    "    - Labor Economics\n",
    "    - Development Economics\n",
    "    - Industrial Organization\n",
    "    - Agricultural Economics\n",
    "    - Business Economics\n",
    "    - Environmental Economics\n",
    "    - Urban Economics\n",
    "    - etc."
   ]
  },
  {
   "cell_type": "markdown",
   "metadata": {},
   "source": [
    "- **Algorithmic Trading** is a subset of **Quantitative Finance** and includes all fields related to the study, analysis, interpretation, prediction or forecasting of financial information. It is a very broad field and includes many sub-fields like:"
   ]
  },
  {
   "cell_type": "markdown",
   "metadata": {},
   "source": [
    "- Main Players in Algorithmic trading landscape:<br>\n",
    "- **1). Renaissance Technology:**\n",
    "- **2). Two Sigma:**\n",
    "- **3). DE Shaw:**\n",
    "- **4). Citadel:**\n",
    "- **5). Bridgewater Associates:**\n",
    "- **6). AQR Capital Management:**\n",
    "- **7). Goldman Sachs:**\n",
    "- **8). Morgan Stanley:**\n",
    "- **9). JP Morgan:**\n",
    "- **10). Bank of America:**\n",
    "- **11). Credit Suisse:**\n",
    "- **12). UBS:**\n",
    "- **13). Barclays:**\n",
    "- **14). Deutsche Bank:**\n",
    "- **15). Citi:**\n",
    "- **16). Wells Fargo:**"
   ]
  },
  {
   "cell_type": "markdown",
   "metadata": {},
   "source": [
    "**Alogorithmic Trading Process**\n",
    "- **1). Data Collection**\n",
    "- **2). Data Processing**\n",
    "- **3). Strategy Formulation**\n",
    "- **4). Backtesting**\n",
    "- **5). Execution**\n",
    "- **6). Risk Management**\n",
    "- **7). Monitoring**    \n"
   ]
  },
  {
   "cell_type": "markdown",
   "metadata": {},
   "source": []
  }
 ],
 "metadata": {
  "language_info": {
   "name": "python"
  },
  "orig_nbformat": 4
 },
 "nbformat": 4,
 "nbformat_minor": 2
}
